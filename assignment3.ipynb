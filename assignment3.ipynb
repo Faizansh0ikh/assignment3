{
 "cells": [
  {
   "cell_type": "markdown",
   "id": "c82d2255-4444-4691-951c-95902b88cfc0",
   "metadata": {},
   "source": [
    "Q1. Which keyword is used to create a function? Create a function to return a list of odd numbers in the\n",
    "range of 1 to 25."
   ]
  },
  {
   "cell_type": "code",
   "execution_count": 19,
   "id": "e6544a52-97ba-4bc4-b018-93a215bc4011",
   "metadata": {},
   "outputs": [
    {
     "data": {
      "text/plain": [
       "[1, 3, 5, 7, 9, 11, 13, 15, 17, 19, 21, 23, 25]"
      ]
     },
     "execution_count": 19,
     "metadata": {},
     "output_type": "execute_result"
    }
   ],
   "source": [
    "# In python def is used to create a function\n",
    "def odd_numbers():\n",
    "    list = []\n",
    "    for i in range(1,26):\n",
    "        if i % 2 != 0:\n",
    "            list.append(i)\n",
    "    return list\n",
    "\n",
    "\n",
    "result = odd_numbers()\n",
    "result"
   ]
  },
  {
   "cell_type": "markdown",
   "id": "b416ab6a-fd32-4600-b76d-9b88428b23dd",
   "metadata": {},
   "source": [
    "Q2. Why *args and **kwargs is used in some functions? Create a function each for *args and **kwargs\n",
    "to demonstrate their use."
   ]
  },
  {
   "cell_type": "code",
   "execution_count": 13,
   "id": "c73b68b1-a509-43bd-9121-1793bf774a4e",
   "metadata": {},
   "outputs": [],
   "source": [
    "#*args(arbitary arguments) and *kwarg(arbitary keywords arguments) used to pass variable number of arguments to the function\n",
    "\n",
    "\n",
    "def function(*args):\n",
    "    print(args)"
   ]
  },
  {
   "cell_type": "code",
   "execution_count": 31,
   "id": "ee773302-9198-4f17-b557-c039afff9184",
   "metadata": {},
   "outputs": [
    {
     "name": "stdout",
     "output_type": "stream",
     "text": [
      "(1, 2, 3, 4)\n"
     ]
    }
   ],
   "source": [
    "function(1,2,3,4)"
   ]
  },
  {
   "cell_type": "code",
   "execution_count": 29,
   "id": "1f355590-7e2e-42d0-afdd-84f9bf22ab5f",
   "metadata": {},
   "outputs": [],
   "source": [
    "def key_pair(**kwags):\n",
    "    for key,values in kwags.items():\n",
    "        print(key,\":\",values)\n",
    "    "
   ]
  },
  {
   "cell_type": "code",
   "execution_count": 30,
   "id": "824d7b57-5085-4ddd-a714-51af5e57d4e9",
   "metadata": {},
   "outputs": [
    {
     "name": "stdout",
     "output_type": "stream",
     "text": [
      "name : Faizan\n",
      "Age : 21\n",
      "Height : 5''6\n",
      "Weight : 54\n"
     ]
    }
   ],
   "source": [
    "key_pair(name=\"Faizan\", Age = 21, Height = \"5''6\", Weight = 54)"
   ]
  },
  {
   "cell_type": "markdown",
   "id": "62a78d74-b608-4423-8b39-32f327175a5b",
   "metadata": {},
   "source": [
    "Q3. What is an iterator in python? Name the method used to initialise the iterator object and the method\n",
    "used for iteration. Use these methods to print the first five elements of the given list [2, 4, 6, 8, 10, 12, 14,\n",
    "16, 18, 20]."
   ]
  },
  {
   "cell_type": "code",
   "execution_count": 48,
   "id": "62658019-e462-405a-89a7-f4cd185ae2fb",
   "metadata": {},
   "outputs": [
    {
     "name": "stdout",
     "output_type": "stream",
     "text": [
      "2\n",
      "4\n",
      "6\n",
      "8\n",
      "10\n"
     ]
    }
   ],
   "source": [
    "\"\"\" iterator is an special container that allow us to access each item of the collection in an controlled and organised way.\n",
    "the method used to initialise the iterator is _iter_ method and method used for iteration is _next_ method \"\"\"\n",
    "\n",
    "elements = [2, 4, 6, 8, 10, 12, 14, 16, 18, 20]\n",
    "\n",
    "iters = iter(elements)  #initialized the iterator\n",
    "\n",
    "for i in range(5):\n",
    "    print(next(iters)) #Start Iteration"
   ]
  },
  {
   "cell_type": "markdown",
   "id": "cd2053f0-094b-482c-95fb-8df18bd244d3",
   "metadata": {},
   "source": [
    "Q4. What is a generator function in python? Why yield keyword is used? Give an example of a generator\n",
    "function."
   ]
  },
  {
   "cell_type": "code",
   "execution_count": 50,
   "id": "00d3fa31-cc9e-4ffd-9153-f16e51461236",
   "metadata": {},
   "outputs": [
    {
     "data": {
      "text/plain": [
       "'Generator functions are special type of functions that allow us to create itrator in simple and easy way. yield keyword is use to change the function into generator function '"
      ]
     },
     "execution_count": 50,
     "metadata": {},
     "output_type": "execute_result"
    }
   ],
   "source": [
    "\"\"\"Generator functions are special type of functions that allow us to create itrator in simple and easy way. yield keyword is use to change the function into generator function \"\"\""
   ]
  },
  {
   "cell_type": "code",
   "execution_count": 1,
   "id": "70396293-5fec-43ef-9693-527bd6af7e30",
   "metadata": {},
   "outputs": [],
   "source": [
    "\n",
    "def generat(n):\n",
    "    for i in range(n):\n",
    "        yield i**2"
   ]
  },
  {
   "cell_type": "code",
   "execution_count": 2,
   "id": "e8bee76a-e67a-4644-8451-9100144fc745",
   "metadata": {},
   "outputs": [
    {
     "name": "stdout",
     "output_type": "stream",
     "text": [
      "0\n",
      "1\n"
     ]
    }
   ],
   "source": [
    "for i in generat(2):\n",
    "    print(i)"
   ]
  },
  {
   "cell_type": "markdown",
   "id": "5d92ccc1-9d97-4e09-910e-cb81615a6a4e",
   "metadata": {},
   "source": [
    "Q5. Create a generator function for prime numbers less than 1000. Use the next() method to print the\n",
    "first 20 prime numbers."
   ]
  },
  {
   "cell_type": "code",
   "execution_count": 60,
   "id": "09cf9fc3-8b2d-4213-bfed-3ce66a320558",
   "metadata": {},
   "outputs": [],
   "source": [
    "\n",
    "\n",
    "def primenumber(n):\n",
    "    for num in range(n):\n",
    "        if num > 1:\n",
    "            for i in range(2, num):\n",
    "                if (num % i) == 0:\n",
    "                    break\n",
    "            else:\n",
    "                 yield num\n",
    "       \n",
    "\n",
    "\n"
   ]
  },
  {
   "cell_type": "code",
   "execution_count": 61,
   "id": "e385ee1a-4c19-4df6-b1a7-8ef660668a1b",
   "metadata": {},
   "outputs": [
    {
     "name": "stdout",
     "output_type": "stream",
     "text": [
      "2\n",
      "3\n",
      "5\n",
      "7\n",
      "11\n",
      "13\n",
      "17\n",
      "19\n",
      "23\n",
      "29\n",
      "31\n",
      "37\n",
      "41\n",
      "43\n",
      "47\n",
      "53\n",
      "59\n",
      "61\n",
      "67\n",
      "71\n",
      "73\n",
      "79\n",
      "83\n",
      "89\n",
      "97\n"
     ]
    }
   ],
   "source": [
    "for i in primenumber(100):\n",
    "    print(i)\n",
    "    \n",
    "    "
   ]
  },
  {
   "cell_type": "code",
   "execution_count": 63,
   "id": "cee26f2e-6b83-4287-a808-f5384f164de2",
   "metadata": {},
   "outputs": [
    {
     "name": "stdout",
     "output_type": "stream",
     "text": [
      "2\n",
      "3\n",
      "5\n",
      "7\n",
      "11\n",
      "13\n",
      "17\n",
      "19\n",
      "23\n",
      "29\n",
      "31\n",
      "37\n",
      "41\n",
      "43\n",
      "47\n",
      "53\n",
      "59\n",
      "61\n",
      "67\n",
      "71\n"
     ]
    }
   ],
   "source": [
    "iters = primenumber(100)\n",
    "\n",
    "for i in range(20):\n",
    "    print(next(iters))\n",
    "        "
   ]
  },
  {
   "cell_type": "markdown",
   "id": "c6dd927f-5e81-4a04-8a57-bf0212ec4111",
   "metadata": {},
   "source": [
    "Q6. Write a python program to print the first 10 Fibonacci numbers using a while loop.\n"
   ]
  },
  {
   "cell_type": "code",
   "execution_count": 9,
   "id": "80d460ce-a2e6-472a-8195-514f4a932ece",
   "metadata": {},
   "outputs": [
    {
     "name": "stdout",
     "output_type": "stream",
     "text": [
      "The Fibonacci Sequence Is : \n",
      "1 1 2 3 5 8 13 21 34 55 89 "
     ]
    }
   ],
   "source": [
    "first = 0\n",
    "second = 1\n",
    "\n",
    "print(\"The Fibonacci Sequence Is : \")\n",
    "\n",
    "while second in range(100):\n",
    "    print(second, end = \" \")\n",
    "    first, second = second, first+second"
   ]
  },
  {
   "cell_type": "markdown",
   "id": "6a1ab01b-b81d-4928-81f9-2e7e10ac2e08",
   "metadata": {},
   "source": [
    "Q7. Write a List Comprehension to iterate through the given string: ‘pwskills’.\n",
    "Expected output: ['p', 'w', 's', 'k', 'i', 'l', 'l', 's']"
   ]
  },
  {
   "cell_type": "code",
   "execution_count": 13,
   "id": "60e60ae5-a6ad-4a44-ac92-d5bae6c37b19",
   "metadata": {},
   "outputs": [],
   "source": [
    "string = \"pwskills\"\n",
    "\n",
    "l1 = [ e for e in string ]"
   ]
  },
  {
   "cell_type": "code",
   "execution_count": 14,
   "id": "202f3993-db47-4527-bf2a-e8430ef16b99",
   "metadata": {},
   "outputs": [
    {
     "data": {
      "text/plain": [
       "['p', 'w', 's', 'k', 'i', 'l', 'l', 's']"
      ]
     },
     "execution_count": 14,
     "metadata": {},
     "output_type": "execute_result"
    }
   ],
   "source": [
    "l1"
   ]
  },
  {
   "cell_type": "markdown",
   "id": "2d82542d-ff61-4de9-b22e-ad9973db02f5",
   "metadata": {},
   "source": [
    "Q8. Write a python program to check whether a given number is Palindrome or not using a while loop."
   ]
  },
  {
   "cell_type": "code",
   "execution_count": 2,
   "id": "e64f5958-6a5a-41f9-bea2-5d13fd0dff33",
   "metadata": {},
   "outputs": [
    {
     "name": "stdin",
     "output_type": "stream",
     "text": [
      "Enter A number:  456\n"
     ]
    },
    {
     "name": "stdout",
     "output_type": "stream",
     "text": [
      "Not a palindrome\n"
     ]
    }
   ],
   "source": [
    "n = int(input(\"Enter A number: \"))\n",
    "temp = n\n",
    "sum = 0\n",
    "\n",
    "while n>0:\n",
    "    r = n%10\n",
    "    sum = sum*10+r\n",
    "    n = n//10\n",
    "    \n",
    "if temp == sum:\n",
    "    print(\"Palindrome Number\")\n",
    "else :\n",
    "    print(\"Not a palindrome\")"
   ]
  },
  {
   "cell_type": "markdown",
   "id": "2209b674-74ff-47d0-beb9-f8aa674554ab",
   "metadata": {},
   "source": [
    "Q9. Write a code to print odd numbers from 1 to 100 using list comprehension."
   ]
  },
  {
   "cell_type": "code",
   "execution_count": 15,
   "id": "9f1bf2c5-75f7-49d0-bbab-af9b2a08cc01",
   "metadata": {},
   "outputs": [
    {
     "name": "stdout",
     "output_type": "stream",
     "text": [
      "[1, 2, 3, 4, 5, 6, 7, 8, 9, 10, 11, 12, 13, 14, 15, 16, 17, 18, 19, 20, 21, 22, 23, 24, 25, 26, 27, 28, 29, 30, 31, 32, 33, 34, 35, 36, 37, 38, 39, 40, 41, 42, 43, 44, 45, 46, 47, 48, 49, 50, 51, 52, 53, 54, 55, 56, 57, 58, 59, 60, 61, 62, 63, 64, 65, 66, 67, 68, 69, 70, 71, 72, 73, 74, 75, 76, 77, 78, 79, 80, 81, 82, 83, 84, 85, 86, 87, 88, 89, 90, 91, 92, 93, 94, 95, 96, 97, 98, 99, 100]\n",
      "[1, 3, 5, 7, 9, 11, 13, 15, 17, 19, 21, 23, 25, 27, 29, 31, 33, 35, 37, 39, 41, 43, 45, 47, 49, 51, 53, 55, 57, 59, 61, 63, 65, 67, 69, 71, 73, 75, 77, 79, 81, 83, 85, 87, 89, 91, 93, 95, 97, 99]\n"
     ]
    }
   ],
   "source": [
    "Numbers = [ num for num in range(1,101)]\n",
    "\n",
    "oddNumbers = [ num for num in Numbers if num % 2 != 0]\n",
    "print(oddNumbers)"
   ]
  },
  {
   "cell_type": "code",
   "execution_count": null,
   "id": "d0539bd2-3973-4487-9d87-eb3f19d7697c",
   "metadata": {},
   "outputs": [],
   "source": []
  }
 ],
 "metadata": {
  "kernelspec": {
   "display_name": "Python 3 (ipykernel)",
   "language": "python",
   "name": "python3"
  },
  "language_info": {
   "codemirror_mode": {
    "name": "ipython",
    "version": 3
   },
   "file_extension": ".py",
   "mimetype": "text/x-python",
   "name": "python",
   "nbconvert_exporter": "python",
   "pygments_lexer": "ipython3",
   "version": "3.10.8"
  }
 },
 "nbformat": 4,
 "nbformat_minor": 5
}
